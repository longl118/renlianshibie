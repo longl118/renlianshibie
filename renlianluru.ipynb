{
 "cells": [
  {
   "cell_type": "code",
   "execution_count": 8,
   "id": "6525b65e",
   "metadata": {},
   "outputs": [],
   "source": [
    "import cv2\n",
    "import dlib"
   ]
  },
  {
   "cell_type": "code",
   "execution_count": 1,
   "id": "f1977276",
   "metadata": {},
   "outputs": [
    {
     "name": "stdout",
     "output_type": "stream",
     "text": [
      "Being processed picture 1\n",
      "Being processed picture 2\n",
      "Being processed picture 3\n",
      "Being processed picture 4\n",
      "Being processed picture 5\n",
      "Being processed picture 6\n",
      "Being processed picture 7\n",
      "Being processed picture 8\n",
      "Being processed picture 9\n",
      "Being processed picture 10\n",
      "Being processed picture 11\n",
      "Being processed picture 12\n",
      "Being processed picture 13\n",
      "Being processed picture 14\n",
      "Being processed picture 15\n",
      "Being processed picture 16\n",
      "Being processed picture 17\n",
      "Being processed picture 18\n",
      "Being processed picture 19\n",
      "Being processed picture 20\n",
      "Finished!\n"
     ]
    }
   ],
   "source": [
    "import cv2\n",
    "import dlib\n",
    "import os\n",
    "import sys\n",
    "import random\n",
    "# 存储位置\n",
    "output_dir = 'D:/myworkspace/JupyterNotebook/People/person/person1/631907060228/1'\n",
    "size = 64\n",
    " \n",
    "if not os.path.exists(output_dir):\n",
    "    os.makedirs(output_dir)\n",
    "# 改变图片的亮度与对比度\n",
    " \n",
    "def relight(img, light=1, bias=0):\n",
    "    w = img.shape[1]\n",
    "    h = img.shape[0]\n",
    "    #image = []\n",
    "    for i in range(0,w):\n",
    "        for j in range(0,h):\n",
    "            for c in range(3):\n",
    "                tmp = int(img[j,i,c]*light + bias)\n",
    "                if tmp > 255:\n",
    "                    tmp = 255\n",
    "                elif tmp < 0:\n",
    "                    tmp = 0\n",
    "                img[j,i,c] = tmp\n",
    "    return img\n",
    " \n",
    "#使用dlib自带的frontal_face_detector作为我们的特征提取器\n",
    "detector = dlib.get_frontal_face_detector()\n",
    "# 打开摄像头 参数为输入流，可以为摄像头或视频文件\n",
    "camera = cv2.VideoCapture(0)\n",
    "#camera = cv2.VideoCapture('C:/Users/CUNGU/Videos/Captures/wang.mp4')\n",
    "\n",
    "index = 1\n",
    "while True:\n",
    "    if (index <= 20):#存储20张人脸特征图像\n",
    "        print('Being processed picture %s' % index)\n",
    "        # 从摄像头读取照片\n",
    "        success, img = camera.read()\n",
    "        # 转为灰度图片\n",
    "        gray_img = cv2.cvtColor(img, cv2.COLOR_BGR2GRAY)\n",
    "        # 使用detector进行人脸检测\n",
    "        dets = detector(gray_img, 1)\n",
    " \n",
    "        for i, d in enumerate(dets):\n",
    "            x1 = d.top() if d.top() > 0 else 0\n",
    "            y1 = d.bottom() if d.bottom() > 0 else 0\n",
    "            x2 = d.left() if d.left() > 0 else 0\n",
    "            y2 = d.right() if d.right() > 0 else 0\n",
    " \n",
    "            face = img[x1:y1,x2:y2]\n",
    "            # 调整图片的对比度与亮度， 对比度与亮度值都取随机数，这样能增加样本的多样性\n",
    "            face = relight(face, random.uniform(0.5, 1.5), random.randint(-50, 50))\n",
    " \n",
    "            face = cv2.resize(face, (size,size))\n",
    " \n",
    "            cv2.imshow('image', face)\n",
    " \n",
    "            cv2.imwrite(output_dir+'/'+str(index)+'.jpg', face)\n",
    " \n",
    "            index += 1\n",
    "        key = cv2.waitKey(30) & 0xff\n",
    "        if key == 27:\n",
    "            break\n",
    "    else:\n",
    "        print('Finished!')\n",
    "        # 释放摄像头 release camera\n",
    "        camera.release()\n",
    "        # 删除建立的窗口 delete all the windows\n",
    "        cv2.destroyAllWindows()\n",
    "        break\n"
   ]
  },
  {
   "cell_type": "code",
   "execution_count": 42,
   "id": "659bbcb9",
   "metadata": {},
   "outputs": [
    {
     "name": "stdout",
     "output_type": "stream",
     "text": [
      "Collecting playsoundNote: you may need to restart the kernel to use updated packages.\n",
      "  Downloading playsound-1.3.0.tar.gz (7.7 kB)\n",
      "Building wheels for collected packages: playsound\n",
      "  Building wheel for playsound (setup.py): started\n",
      "  Building wheel for playsound (setup.py): finished with status 'done'\n",
      "  Created wheel for playsound: filename=playsound-1.3.0-py3-none-any.whl size=7026 sha256=3a3429c8b31aa77d54fffedb08ee90ab22bbac9839f766a775256c791f8fd753\n",
      "  Stored in directory: c:\\users\\yy的第一台笔记本\\appdata\\local\\pip\\cache\\wheels\\73\\cd\\cf\\9750b618d54bd81c20e4c34fb24a423a5b095920367cdb3f71\n",
      "Successfully built playsound\n",
      "Installing collected packages: playsound\n",
      "Successfully installed playsound-1.3.0\n",
      "\n"
     ]
    }
   ],
   "source": [
    "pip install playsound"
   ]
  },
  {
   "cell_type": "code",
   "execution_count": null,
   "id": "d9e4c747",
   "metadata": {},
   "outputs": [],
   "source": []
  }
 ],
 "metadata": {
  "kernelspec": {
   "display_name": "Python 3",
   "language": "python",
   "name": "python3"
  },
  "language_info": {
   "codemirror_mode": {
    "name": "ipython",
    "version": 3
   },
   "file_extension": ".py",
   "mimetype": "text/x-python",
   "name": "python",
   "nbconvert_exporter": "python",
   "pygments_lexer": "ipython3",
   "version": "3.8.8"
  }
 },
 "nbformat": 4,
 "nbformat_minor": 5
}
